{
 "cells": [
  {
   "cell_type": "code",
   "execution_count": 1,
   "id": "24b2e54f",
   "metadata": {},
   "outputs": [],
   "source": [
    "import pandas as pd\n",
    "import numpy as np\n",
    "from datetime import date, time,datetime\n",
    "from dateutil import parser\n",
    "import matplotlib.pyplot as plt"
   ]
  },
  {
   "cell_type": "code",
   "execution_count": 2,
   "id": "f847f36d",
   "metadata": {},
   "outputs": [
    {
     "data": {
      "text/plain": [
       "'C:\\\\Users\\\\nirdo'"
      ]
     },
     "execution_count": 2,
     "metadata": {},
     "output_type": "execute_result"
    }
   ],
   "source": [
    "pwd"
   ]
  },
  {
   "cell_type": "code",
   "execution_count": 12,
   "id": "393d9a23",
   "metadata": {},
   "outputs": [],
   "source": [
    "space_missions = pd.read_csv('C:\\\\Users\\\\nirdo\\\\Desktop\\\\space_missions.csv', encoding='latin-1')"
   ]
  },
  {
   "cell_type": "code",
   "execution_count": 13,
   "id": "fc4df317",
   "metadata": {},
   "outputs": [
    {
     "name": "stdout",
     "output_type": "stream",
     "text": [
      "<class 'pandas.core.frame.DataFrame'>\n",
      "RangeIndex: 4630 entries, 0 to 4629\n",
      "Data columns (total 9 columns):\n",
      " #   Column         Non-Null Count  Dtype \n",
      "---  ------         --------------  ----- \n",
      " 0   Company        4630 non-null   object\n",
      " 1   Location       4630 non-null   object\n",
      " 2   Date           4630 non-null   object\n",
      " 3   Time           4503 non-null   object\n",
      " 4   Rocket         4630 non-null   object\n",
      " 5   Mission        4630 non-null   object\n",
      " 6   RocketStatus   4630 non-null   object\n",
      " 7   Price          1265 non-null   object\n",
      " 8   MissionStatus  4630 non-null   object\n",
      "dtypes: object(9)\n",
      "memory usage: 325.7+ KB\n"
     ]
    }
   ],
   "source": [
    "space_missions.info()"
   ]
  },
  {
   "cell_type": "code",
   "execution_count": 14,
   "id": "7b57ae1b",
   "metadata": {},
   "outputs": [
    {
     "data": {
      "text/plain": [
       "(4630, 9)"
      ]
     },
     "execution_count": 14,
     "metadata": {},
     "output_type": "execute_result"
    }
   ],
   "source": [
    "space_missions.shape"
   ]
  },
  {
   "cell_type": "code",
   "execution_count": 15,
   "id": "57e92d4d",
   "metadata": {},
   "outputs": [
    {
     "data": {
      "text/html": [
       "<div>\n",
       "<style scoped>\n",
       "    .dataframe tbody tr th:only-of-type {\n",
       "        vertical-align: middle;\n",
       "    }\n",
       "\n",
       "    .dataframe tbody tr th {\n",
       "        vertical-align: top;\n",
       "    }\n",
       "\n",
       "    .dataframe thead th {\n",
       "        text-align: right;\n",
       "    }\n",
       "</style>\n",
       "<table border=\"1\" class=\"dataframe\">\n",
       "  <thead>\n",
       "    <tr style=\"text-align: right;\">\n",
       "      <th></th>\n",
       "      <th>Company</th>\n",
       "      <th>Location</th>\n",
       "      <th>Date</th>\n",
       "      <th>Time</th>\n",
       "      <th>Rocket</th>\n",
       "      <th>Mission</th>\n",
       "      <th>RocketStatus</th>\n",
       "      <th>Price</th>\n",
       "      <th>MissionStatus</th>\n",
       "    </tr>\n",
       "  </thead>\n",
       "  <tbody>\n",
       "    <tr>\n",
       "      <th>0</th>\n",
       "      <td>RVSN USSR</td>\n",
       "      <td>Site 1/5, Baikonur Cosmodrome, Kazakhstan</td>\n",
       "      <td>1957-10-04</td>\n",
       "      <td>19:28:00</td>\n",
       "      <td>Sputnik 8K71PS</td>\n",
       "      <td>Sputnik-1</td>\n",
       "      <td>Retired</td>\n",
       "      <td>NaN</td>\n",
       "      <td>Success</td>\n",
       "    </tr>\n",
       "    <tr>\n",
       "      <th>1</th>\n",
       "      <td>RVSN USSR</td>\n",
       "      <td>Site 1/5, Baikonur Cosmodrome, Kazakhstan</td>\n",
       "      <td>1957-11-03</td>\n",
       "      <td>02:30:00</td>\n",
       "      <td>Sputnik 8K71PS</td>\n",
       "      <td>Sputnik-2</td>\n",
       "      <td>Retired</td>\n",
       "      <td>NaN</td>\n",
       "      <td>Success</td>\n",
       "    </tr>\n",
       "    <tr>\n",
       "      <th>2</th>\n",
       "      <td>US Navy</td>\n",
       "      <td>LC-18A, Cape Canaveral AFS, Florida, USA</td>\n",
       "      <td>1957-12-06</td>\n",
       "      <td>16:44:00</td>\n",
       "      <td>Vanguard</td>\n",
       "      <td>Vanguard TV3</td>\n",
       "      <td>Retired</td>\n",
       "      <td>NaN</td>\n",
       "      <td>Failure</td>\n",
       "    </tr>\n",
       "    <tr>\n",
       "      <th>3</th>\n",
       "      <td>AMBA</td>\n",
       "      <td>LC-26A, Cape Canaveral AFS, Florida, USA</td>\n",
       "      <td>1958-02-01</td>\n",
       "      <td>03:48:00</td>\n",
       "      <td>Juno I</td>\n",
       "      <td>Explorer 1</td>\n",
       "      <td>Retired</td>\n",
       "      <td>NaN</td>\n",
       "      <td>Success</td>\n",
       "    </tr>\n",
       "    <tr>\n",
       "      <th>4</th>\n",
       "      <td>US Navy</td>\n",
       "      <td>LC-18A, Cape Canaveral AFS, Florida, USA</td>\n",
       "      <td>1958-02-05</td>\n",
       "      <td>07:33:00</td>\n",
       "      <td>Vanguard</td>\n",
       "      <td>Vanguard TV3BU</td>\n",
       "      <td>Retired</td>\n",
       "      <td>NaN</td>\n",
       "      <td>Failure</td>\n",
       "    </tr>\n",
       "  </tbody>\n",
       "</table>\n",
       "</div>"
      ],
      "text/plain": [
       "     Company                                   Location        Date      Time  \\\n",
       "0  RVSN USSR  Site 1/5, Baikonur Cosmodrome, Kazakhstan  1957-10-04  19:28:00   \n",
       "1  RVSN USSR  Site 1/5, Baikonur Cosmodrome, Kazakhstan  1957-11-03  02:30:00   \n",
       "2    US Navy   LC-18A, Cape Canaveral AFS, Florida, USA  1957-12-06  16:44:00   \n",
       "3       AMBA   LC-26A, Cape Canaveral AFS, Florida, USA  1958-02-01  03:48:00   \n",
       "4    US Navy   LC-18A, Cape Canaveral AFS, Florida, USA  1958-02-05  07:33:00   \n",
       "\n",
       "           Rocket         Mission RocketStatus Price MissionStatus  \n",
       "0  Sputnik 8K71PS       Sputnik-1      Retired   NaN       Success  \n",
       "1  Sputnik 8K71PS       Sputnik-2      Retired   NaN       Success  \n",
       "2        Vanguard    Vanguard TV3      Retired   NaN       Failure  \n",
       "3          Juno I      Explorer 1      Retired   NaN       Success  \n",
       "4        Vanguard  Vanguard TV3BU      Retired   NaN       Failure  "
      ]
     },
     "execution_count": 15,
     "metadata": {},
     "output_type": "execute_result"
    }
   ],
   "source": [
    "space_missions.head()"
   ]
  },
  {
   "cell_type": "code",
   "execution_count": 16,
   "id": "592468ee",
   "metadata": {},
   "outputs": [],
   "source": [
    "space_missions.Date = pd.to_datetime(space_missions.Date)"
   ]
  },
  {
   "cell_type": "code",
   "execution_count": 17,
   "id": "47290c5c",
   "metadata": {},
   "outputs": [],
   "source": [
    "space_missions.Time = pd.to_timedelta(space_missions.Time)"
   ]
  },
  {
   "cell_type": "code",
   "execution_count": 18,
   "id": "cc030afd",
   "metadata": {},
   "outputs": [
    {
     "name": "stdout",
     "output_type": "stream",
     "text": [
      "<class 'pandas.core.frame.DataFrame'>\n",
      "RangeIndex: 4630 entries, 0 to 4629\n",
      "Data columns (total 9 columns):\n",
      " #   Column         Non-Null Count  Dtype          \n",
      "---  ------         --------------  -----          \n",
      " 0   Company        4630 non-null   object         \n",
      " 1   Location       4630 non-null   object         \n",
      " 2   Date           4630 non-null   datetime64[ns] \n",
      " 3   Time           4503 non-null   timedelta64[ns]\n",
      " 4   Rocket         4630 non-null   object         \n",
      " 5   Mission        4630 non-null   object         \n",
      " 6   RocketStatus   4630 non-null   object         \n",
      " 7   Price          1265 non-null   object         \n",
      " 8   MissionStatus  4630 non-null   object         \n",
      "dtypes: datetime64[ns](1), object(7), timedelta64[ns](1)\n",
      "memory usage: 325.7+ KB\n"
     ]
    }
   ],
   "source": [
    "space_missions.info()"
   ]
  },
  {
   "cell_type": "code",
   "execution_count": 19,
   "id": "df5cc802",
   "metadata": {},
   "outputs": [
    {
     "data": {
      "text/html": [
       "<div>\n",
       "<style scoped>\n",
       "    .dataframe tbody tr th:only-of-type {\n",
       "        vertical-align: middle;\n",
       "    }\n",
       "\n",
       "    .dataframe tbody tr th {\n",
       "        vertical-align: top;\n",
       "    }\n",
       "\n",
       "    .dataframe thead th {\n",
       "        text-align: right;\n",
       "    }\n",
       "</style>\n",
       "<table border=\"1\" class=\"dataframe\">\n",
       "  <thead>\n",
       "    <tr style=\"text-align: right;\">\n",
       "      <th></th>\n",
       "      <th>Company</th>\n",
       "      <th>Location</th>\n",
       "      <th>Date</th>\n",
       "      <th>Time</th>\n",
       "      <th>Rocket</th>\n",
       "      <th>Mission</th>\n",
       "      <th>RocketStatus</th>\n",
       "      <th>Price</th>\n",
       "      <th>MissionStatus</th>\n",
       "    </tr>\n",
       "  </thead>\n",
       "  <tbody>\n",
       "    <tr>\n",
       "      <th>0</th>\n",
       "      <td>RVSN USSR</td>\n",
       "      <td>Site 1/5, Baikonur Cosmodrome, Kazakhstan</td>\n",
       "      <td>1957-10-04</td>\n",
       "      <td>0 days 19:28:00</td>\n",
       "      <td>Sputnik 8K71PS</td>\n",
       "      <td>Sputnik-1</td>\n",
       "      <td>Retired</td>\n",
       "      <td>NaN</td>\n",
       "      <td>Success</td>\n",
       "    </tr>\n",
       "    <tr>\n",
       "      <th>1</th>\n",
       "      <td>RVSN USSR</td>\n",
       "      <td>Site 1/5, Baikonur Cosmodrome, Kazakhstan</td>\n",
       "      <td>1957-11-03</td>\n",
       "      <td>0 days 02:30:00</td>\n",
       "      <td>Sputnik 8K71PS</td>\n",
       "      <td>Sputnik-2</td>\n",
       "      <td>Retired</td>\n",
       "      <td>NaN</td>\n",
       "      <td>Success</td>\n",
       "    </tr>\n",
       "    <tr>\n",
       "      <th>2</th>\n",
       "      <td>US Navy</td>\n",
       "      <td>LC-18A, Cape Canaveral AFS, Florida, USA</td>\n",
       "      <td>1957-12-06</td>\n",
       "      <td>0 days 16:44:00</td>\n",
       "      <td>Vanguard</td>\n",
       "      <td>Vanguard TV3</td>\n",
       "      <td>Retired</td>\n",
       "      <td>NaN</td>\n",
       "      <td>Failure</td>\n",
       "    </tr>\n",
       "    <tr>\n",
       "      <th>3</th>\n",
       "      <td>AMBA</td>\n",
       "      <td>LC-26A, Cape Canaveral AFS, Florida, USA</td>\n",
       "      <td>1958-02-01</td>\n",
       "      <td>0 days 03:48:00</td>\n",
       "      <td>Juno I</td>\n",
       "      <td>Explorer 1</td>\n",
       "      <td>Retired</td>\n",
       "      <td>NaN</td>\n",
       "      <td>Success</td>\n",
       "    </tr>\n",
       "    <tr>\n",
       "      <th>4</th>\n",
       "      <td>US Navy</td>\n",
       "      <td>LC-18A, Cape Canaveral AFS, Florida, USA</td>\n",
       "      <td>1958-02-05</td>\n",
       "      <td>0 days 07:33:00</td>\n",
       "      <td>Vanguard</td>\n",
       "      <td>Vanguard TV3BU</td>\n",
       "      <td>Retired</td>\n",
       "      <td>NaN</td>\n",
       "      <td>Failure</td>\n",
       "    </tr>\n",
       "  </tbody>\n",
       "</table>\n",
       "</div>"
      ],
      "text/plain": [
       "     Company                                   Location       Date  \\\n",
       "0  RVSN USSR  Site 1/5, Baikonur Cosmodrome, Kazakhstan 1957-10-04   \n",
       "1  RVSN USSR  Site 1/5, Baikonur Cosmodrome, Kazakhstan 1957-11-03   \n",
       "2    US Navy   LC-18A, Cape Canaveral AFS, Florida, USA 1957-12-06   \n",
       "3       AMBA   LC-26A, Cape Canaveral AFS, Florida, USA 1958-02-01   \n",
       "4    US Navy   LC-18A, Cape Canaveral AFS, Florida, USA 1958-02-05   \n",
       "\n",
       "             Time          Rocket         Mission RocketStatus Price  \\\n",
       "0 0 days 19:28:00  Sputnik 8K71PS       Sputnik-1      Retired   NaN   \n",
       "1 0 days 02:30:00  Sputnik 8K71PS       Sputnik-2      Retired   NaN   \n",
       "2 0 days 16:44:00        Vanguard    Vanguard TV3      Retired   NaN   \n",
       "3 0 days 03:48:00          Juno I      Explorer 1      Retired   NaN   \n",
       "4 0 days 07:33:00        Vanguard  Vanguard TV3BU      Retired   NaN   \n",
       "\n",
       "  MissionStatus  \n",
       "0       Success  \n",
       "1       Success  \n",
       "2       Failure  \n",
       "3       Success  \n",
       "4       Failure  "
      ]
     },
     "execution_count": 19,
     "metadata": {},
     "output_type": "execute_result"
    }
   ],
   "source": [
    "space_missions.head()"
   ]
  },
  {
   "cell_type": "code",
   "execution_count": 10,
   "id": "404fd75e",
   "metadata": {},
   "outputs": [],
   "source": [
    "space_missions.Price = space_missions.Price.replace('[^0-9]', '', regex=True).astype(float)"
   ]
  },
  {
   "cell_type": "code",
   "execution_count": 11,
   "id": "52d1d93d",
   "metadata": {},
   "outputs": [
    {
     "name": "stdout",
     "output_type": "stream",
     "text": [
      "<class 'pandas.core.frame.DataFrame'>\n",
      "RangeIndex: 4630 entries, 0 to 4629\n",
      "Data columns (total 9 columns):\n",
      " #   Column         Non-Null Count  Dtype          \n",
      "---  ------         --------------  -----          \n",
      " 0   Company        4630 non-null   object         \n",
      " 1   Location       4630 non-null   object         \n",
      " 2   Date           4630 non-null   datetime64[ns] \n",
      " 3   Time           4503 non-null   timedelta64[ns]\n",
      " 4   Rocket         4630 non-null   object         \n",
      " 5   Mission        4630 non-null   object         \n",
      " 6   RocketStatus   4630 non-null   object         \n",
      " 7   Price          1265 non-null   float64        \n",
      " 8   MissionStatus  4630 non-null   object         \n",
      "dtypes: datetime64[ns](1), float64(1), object(6), timedelta64[ns](1)\n",
      "memory usage: 325.7+ KB\n"
     ]
    }
   ],
   "source": [
    "space_missions.info()"
   ]
  },
  {
   "cell_type": "code",
   "execution_count": 12,
   "id": "6f7a8127",
   "metadata": {},
   "outputs": [
    {
     "data": {
      "text/plain": [
       "Success              4162\n",
       "Failure               357\n",
       "Partial Failure       107\n",
       "Prelaunch Failure       4\n",
       "Name: MissionStatus, dtype: int64"
      ]
     },
     "execution_count": 12,
     "metadata": {},
     "output_type": "execute_result"
    }
   ],
   "source": [
    "space_missions['MissionStatus'].value_counts()"
   ]
  },
  {
   "cell_type": "code",
   "execution_count": 13,
   "id": "091fa8e7",
   "metadata": {},
   "outputs": [
    {
     "name": "stderr",
     "output_type": "stream",
     "text": [
      "C:\\Users\\nirdo\\AppData\\Local\\Temp\\ipykernel_11232\\1185228105.py:1: FutureWarning: is_monotonic is deprecated and will be removed in a future version. Use is_monotonic_increasing instead.\n",
      "  space_missions['MissionStatus'].is_monotonic\n"
     ]
    },
    {
     "data": {
      "text/plain": [
       "False"
      ]
     },
     "execution_count": 13,
     "metadata": {},
     "output_type": "execute_result"
    }
   ],
   "source": [
    "space_missions['MissionStatus'].is_monotonic"
   ]
  },
  {
   "cell_type": "code",
   "execution_count": 14,
   "id": "b6a17d49",
   "metadata": {},
   "outputs": [],
   "source": [
    "#How have rocket launches trended across time? Has mission success rate increased?\n",
    "#yes launch success rate has been increased over time"
   ]
  },
  {
   "cell_type": "code",
   "execution_count": 15,
   "id": "d5e89b1d",
   "metadata": {},
   "outputs": [
    {
     "data": {
      "image/png": "[encoded data removed]",
      "text/plain": [
       "<Figure size 640x480 with 1 Axes>"
      ]
     },
     "metadata": {},
     "output_type": "display_data"
    }
   ],
   "source": [
    "fig, ax = plt.subplots()\n",
    "ax.plot(space_missions.MissionStatus,space_missions.Date)\n",
    "ax.set_title ('by time');"
   ]
  },
  {
   "cell_type": "code",
   "execution_count": 16,
   "id": "f6d7a974",
   "metadata": {},
   "outputs": [
    {
     "data": {
      "text/plain": [
       "Retired    3620\n",
       "Active     1010\n",
       "Name: RocketStatus, dtype: int64"
      ]
     },
     "execution_count": 16,
     "metadata": {},
     "output_type": "execute_result"
    }
   ],
   "source": [
    "space_missions.RocketStatus.value_counts()"
   ]
  },
  {
   "cell_type": "code",
   "execution_count": 17,
   "id": "68754f8e",
   "metadata": {},
   "outputs": [],
   "source": [
    "#Which countries have had the most successful space missions? Has it always been that way?"
   ]
  },
  {
   "cell_type": "code",
   "execution_count": 18,
   "id": "7fd5932a",
   "metadata": {},
   "outputs": [
    {
     "data": {
      "text/plain": [
       "0             Site 1/5, Baikonur Cosmodrome, Kazakhstan\n",
       "1             Site 1/5, Baikonur Cosmodrome, Kazakhstan\n",
       "2              LC-18A, Cape Canaveral AFS, Florida, USA\n",
       "3              LC-26A, Cape Canaveral AFS, Florida, USA\n",
       "4              LC-18A, Cape Canaveral AFS, Florida, USA\n",
       "                             ...                       \n",
       "4625            SLC-4E, Vandenberg SFB, California, USA\n",
       "4626    LC-101, Wenchang Satellite Launch Center, China\n",
       "4627         LC-39A, Kennedy Space Center, Florida, USA\n",
       "4628             Jiuquan Satellite Launch Center, China\n",
       "4629       LC-3, Xichang Satellite Launch Center, China\n",
       "Name: Location, Length: 4630, dtype: object"
      ]
     },
     "execution_count": 18,
     "metadata": {},
     "output_type": "execute_result"
    }
   ],
   "source": [
    "space_missions['Location']"
   ]
  },
  {
   "cell_type": "code",
   "execution_count": 19,
   "id": "62144f92",
   "metadata": {},
   "outputs": [],
   "source": [
    "countries = space_missions.loc[:,['Location', 'MissionStatus']]"
   ]
  },
  {
   "cell_type": "code",
   "execution_count": 20,
   "id": "d559c0e8",
   "metadata": {},
   "outputs": [
    {
     "data": {
      "text/html": [
       "<div>\n",
       "<style scoped>\n",
       "    .dataframe tbody tr th:only-of-type {\n",
       "        vertical-align: middle;\n",
       "    }\n",
       "\n",
       "    .dataframe tbody tr th {\n",
       "        vertical-align: top;\n",
       "    }\n",
       "\n",
       "    .dataframe thead th {\n",
       "        text-align: right;\n",
       "    }\n",
       "</style>\n",
       "<table border=\"1\" class=\"dataframe\">\n",
       "  <thead>\n",
       "    <tr style=\"text-align: right;\">\n",
       "      <th></th>\n",
       "      <th>Location</th>\n",
       "      <th>MissionStatus</th>\n",
       "    </tr>\n",
       "  </thead>\n",
       "  <tbody>\n",
       "    <tr>\n",
       "      <th>0</th>\n",
       "      <td>Site 1/5, Baikonur Cosmodrome, Kazakhstan</td>\n",
       "      <td>Success</td>\n",
       "    </tr>\n",
       "    <tr>\n",
       "      <th>1</th>\n",
       "      <td>Site 1/5, Baikonur Cosmodrome, Kazakhstan</td>\n",
       "      <td>Success</td>\n",
       "    </tr>\n",
       "    <tr>\n",
       "      <th>2</th>\n",
       "      <td>LC-18A, Cape Canaveral AFS, Florida, USA</td>\n",
       "      <td>Failure</td>\n",
       "    </tr>\n",
       "    <tr>\n",
       "      <th>3</th>\n",
       "      <td>LC-26A, Cape Canaveral AFS, Florida, USA</td>\n",
       "      <td>Success</td>\n",
       "    </tr>\n",
       "    <tr>\n",
       "      <th>4</th>\n",
       "      <td>LC-18A, Cape Canaveral AFS, Florida, USA</td>\n",
       "      <td>Failure</td>\n",
       "    </tr>\n",
       "  </tbody>\n",
       "</table>\n",
       "</div>"
      ],
      "text/plain": [
       "                                    Location MissionStatus\n",
       "0  Site 1/5, Baikonur Cosmodrome, Kazakhstan       Success\n",
       "1  Site 1/5, Baikonur Cosmodrome, Kazakhstan       Success\n",
       "2   LC-18A, Cape Canaveral AFS, Florida, USA       Failure\n",
       "3   LC-26A, Cape Canaveral AFS, Florida, USA       Success\n",
       "4   LC-18A, Cape Canaveral AFS, Florida, USA       Failure"
      ]
     },
     "execution_count": 20,
     "metadata": {},
     "output_type": "execute_result"
    }
   ],
   "source": [
    "countries.head()"
   ]
  },
  {
   "cell_type": "code",
   "execution_count": 21,
   "id": "e8665b1f",
   "metadata": {},
   "outputs": [],
   "source": [
    "countries.Location = countries['Location'].str.split(', ').str.get(2)"
   ]
  },
  {
   "cell_type": "code",
   "execution_count": 22,
   "id": "775d8da0",
   "metadata": {},
   "outputs": [],
   "source": [
    "countries.set_index('Location', inplace=True)"
   ]
  },
  {
   "cell_type": "code",
   "execution_count": 23,
   "id": "0c826fd4",
   "metadata": {},
   "outputs": [
    {
     "data": {
      "text/html": [
       "<div>\n",
       "<style scoped>\n",
       "    .dataframe tbody tr th:only-of-type {\n",
       "        vertical-align: middle;\n",
       "    }\n",
       "\n",
       "    .dataframe tbody tr th {\n",
       "        vertical-align: top;\n",
       "    }\n",
       "\n",
       "    .dataframe thead th {\n",
       "        text-align: right;\n",
       "    }\n",
       "</style>\n",
       "<table border=\"1\" class=\"dataframe\">\n",
       "  <thead>\n",
       "    <tr style=\"text-align: right;\">\n",
       "      <th></th>\n",
       "      <th>MissionStatus</th>\n",
       "    </tr>\n",
       "    <tr>\n",
       "      <th>Location</th>\n",
       "      <th></th>\n",
       "    </tr>\n",
       "  </thead>\n",
       "  <tbody>\n",
       "    <tr>\n",
       "      <th>Kazakhstan</th>\n",
       "      <td>Success</td>\n",
       "    </tr>\n",
       "    <tr>\n",
       "      <th>Kazakhstan</th>\n",
       "      <td>Success</td>\n",
       "    </tr>\n",
       "    <tr>\n",
       "      <th>Florida</th>\n",
       "      <td>Failure</td>\n",
       "    </tr>\n",
       "    <tr>\n",
       "      <th>Florida</th>\n",
       "      <td>Success</td>\n",
       "    </tr>\n",
       "    <tr>\n",
       "      <th>Florida</th>\n",
       "      <td>Failure</td>\n",
       "    </tr>\n",
       "  </tbody>\n",
       "</table>\n",
       "</div>"
      ],
      "text/plain": [
       "           MissionStatus\n",
       "Location                \n",
       "Kazakhstan       Success\n",
       "Kazakhstan       Success\n",
       "Florida          Failure\n",
       "Florida          Success\n",
       "Florida          Failure"
      ]
     },
     "execution_count": 23,
     "metadata": {},
     "output_type": "execute_result"
    }
   ],
   "source": [
    "countries.head()"
   ]
  },
  {
   "cell_type": "code",
   "execution_count": 24,
   "id": "659126fa",
   "metadata": {},
   "outputs": [
    {
     "data": {
      "text/plain": [
       "Russia              1318\n",
       "Florida              825\n",
       "Kazakhstan           625\n",
       "California           407\n",
       "China                326\n",
       "French Guiana        296\n",
       "Japan                115\n",
       "India                 68\n",
       "Pacific Ocean         33\n",
       "Virginia              30\n",
       "New Zealand           25\n",
       "Texas                 23\n",
       "Israel                 9\n",
       "Kenya                  9\n",
       "Marshall Islands       6\n",
       "Iran                   6\n",
       "Australia              3\n",
       "Alaska                 3\n",
       "Algeria                3\n",
       "Gran Canaria           2\n",
       "Barents Sea            2\n",
       "North Korea            2\n",
       "South Korea            2\n",
       "New Mexico             2\n",
       "Kodiak                 2\n",
       "Name: Location, dtype: int64"
      ]
     },
     "execution_count": 24,
     "metadata": {},
     "output_type": "execute_result"
    }
   ],
   "source": [
    "countries[countries['MissionStatus'] == 'Success'].index.value_counts()"
   ]
  },
  {
   "cell_type": "code",
   "execution_count": 25,
   "id": "bc78b44e",
   "metadata": {},
   "outputs": [
    {
     "data": {
      "text/plain": [
       "Kazakhstan                        72\n",
       "Florida                           65\n",
       "Russia                            63\n",
       "California                        57\n",
       "China                             22\n",
       "French Guiana                     14\n",
       "India                              9\n",
       "Iran                               9\n",
       "Japan                              5\n",
       "Virginia                           5\n",
       "Australia                          3\n",
       "South Korea                        3\n",
       "Kodiak                             3\n",
       "North Korea                        3\n",
       "Pacific Ocean                      3\n",
       "New Zealand                        3\n",
       "Marshall Islands                   3\n",
       "Israel                             2\n",
       "Maranhão                           2\n",
       "Pacific Missile Range Facility     1\n",
       "Barents Sea                        1\n",
       "New Mexico                         1\n",
       "Texas                              1\n",
       "Name: Location, dtype: int64"
      ]
     },
     "execution_count": 25,
     "metadata": {},
     "output_type": "execute_result"
    }
   ],
   "source": [
    "countries[countries['MissionStatus'] == 'Failure'].index.value_counts()"
   ]
  },
  {
   "cell_type": "code",
   "execution_count": 26,
   "id": "1cdc8a45",
   "metadata": {},
   "outputs": [],
   "source": [
    "##Russia has the most successfull missions till aug 2022\n",
    "#no Russia had failures in the past ,  counts to total of 63 failure missions"
   ]
  },
  {
   "cell_type": "code",
   "execution_count": 27,
   "id": "38aab68a",
   "metadata": {},
   "outputs": [],
   "source": [
    "#Which rocket has been used for the most space missions? Is it still active?"
   ]
  },
  {
   "cell_type": "code",
   "execution_count": 28,
   "id": "a710490e",
   "metadata": {},
   "outputs": [
    {
     "data": {
      "text/html": [
       "<div>\n",
       "<style scoped>\n",
       "    .dataframe tbody tr th:only-of-type {\n",
       "        vertical-align: middle;\n",
       "    }\n",
       "\n",
       "    .dataframe tbody tr th {\n",
       "        vertical-align: top;\n",
       "    }\n",
       "\n",
       "    .dataframe thead th {\n",
       "        text-align: right;\n",
       "    }\n",
       "</style>\n",
       "<table border=\"1\" class=\"dataframe\">\n",
       "  <thead>\n",
       "    <tr style=\"text-align: right;\">\n",
       "      <th></th>\n",
       "      <th>Rocket</th>\n",
       "      <th>Mission</th>\n",
       "    </tr>\n",
       "  </thead>\n",
       "  <tbody>\n",
       "    <tr>\n",
       "      <th>0</th>\n",
       "      <td>Sputnik 8K71PS</td>\n",
       "      <td>Sputnik-1</td>\n",
       "    </tr>\n",
       "    <tr>\n",
       "      <th>1</th>\n",
       "      <td>Sputnik 8K71PS</td>\n",
       "      <td>Sputnik-2</td>\n",
       "    </tr>\n",
       "    <tr>\n",
       "      <th>2</th>\n",
       "      <td>Vanguard</td>\n",
       "      <td>Vanguard TV3</td>\n",
       "    </tr>\n",
       "    <tr>\n",
       "      <th>3</th>\n",
       "      <td>Juno I</td>\n",
       "      <td>Explorer 1</td>\n",
       "    </tr>\n",
       "    <tr>\n",
       "      <th>4</th>\n",
       "      <td>Vanguard</td>\n",
       "      <td>Vanguard TV3BU</td>\n",
       "    </tr>\n",
       "    <tr>\n",
       "      <th>...</th>\n",
       "      <td>...</td>\n",
       "      <td>...</td>\n",
       "    </tr>\n",
       "    <tr>\n",
       "      <th>4625</th>\n",
       "      <td>Falcon 9 Block 5</td>\n",
       "      <td>Starlink Group 3-2</td>\n",
       "    </tr>\n",
       "    <tr>\n",
       "      <th>4626</th>\n",
       "      <td>Long March 5B</td>\n",
       "      <td>Wentian</td>\n",
       "    </tr>\n",
       "    <tr>\n",
       "      <th>4627</th>\n",
       "      <td>Falcon 9 Block 5</td>\n",
       "      <td>Starlink Group 4-25</td>\n",
       "    </tr>\n",
       "    <tr>\n",
       "      <th>4628</th>\n",
       "      <td>Zhongke-1A</td>\n",
       "      <td>Demo Flight</td>\n",
       "    </tr>\n",
       "    <tr>\n",
       "      <th>4629</th>\n",
       "      <td>Long March 2D</td>\n",
       "      <td>Yaogan 35 Group 03</td>\n",
       "    </tr>\n",
       "  </tbody>\n",
       "</table>\n",
       "<p>4630 rows × 2 columns</p>\n",
       "</div>"
      ],
      "text/plain": [
       "                Rocket              Mission\n",
       "0       Sputnik 8K71PS            Sputnik-1\n",
       "1       Sputnik 8K71PS            Sputnik-2\n",
       "2             Vanguard         Vanguard TV3\n",
       "3               Juno I           Explorer 1\n",
       "4             Vanguard       Vanguard TV3BU\n",
       "...                ...                  ...\n",
       "4625  Falcon 9 Block 5   Starlink Group 3-2\n",
       "4626     Long March 5B              Wentian\n",
       "4627  Falcon 9 Block 5  Starlink Group 4-25\n",
       "4628        Zhongke-1A          Demo Flight\n",
       "4629     Long March 2D   Yaogan 35 Group 03\n",
       "\n",
       "[4630 rows x 2 columns]"
      ]
     },
     "execution_count": 28,
     "metadata": {},
     "output_type": "execute_result"
    }
   ],
   "source": [
    "space_missions.loc[:,['Rocket', 'Mission']]"
   ]
  },
  {
   "cell_type": "code",
   "execution_count": 29,
   "id": "adf1c18a",
   "metadata": {},
   "outputs": [
    {
     "data": {
      "text/plain": [
       "DSP            8\n",
       "Demo Flight    8\n",
       "KH-11          6\n",
       "Name: Mission, dtype: int64"
      ]
     },
     "execution_count": 29,
     "metadata": {},
     "output_type": "execute_result"
    }
   ],
   "source": [
    "space_missions['Mission'].value_counts().nlargest(3)"
   ]
  },
  {
   "cell_type": "code",
   "execution_count": 30,
   "id": "3417400e",
   "metadata": {},
   "outputs": [
    {
     "data": {
      "text/html": [
       "<div>\n",
       "<style scoped>\n",
       "    .dataframe tbody tr th:only-of-type {\n",
       "        vertical-align: middle;\n",
       "    }\n",
       "\n",
       "    .dataframe tbody tr th {\n",
       "        vertical-align: top;\n",
       "    }\n",
       "\n",
       "    .dataframe thead th {\n",
       "        text-align: right;\n",
       "    }\n",
       "</style>\n",
       "<table border=\"1\" class=\"dataframe\">\n",
       "  <thead>\n",
       "    <tr style=\"text-align: right;\">\n",
       "      <th></th>\n",
       "      <th>Company</th>\n",
       "      <th>Location</th>\n",
       "      <th>Date</th>\n",
       "      <th>Time</th>\n",
       "      <th>Rocket</th>\n",
       "      <th>Mission</th>\n",
       "      <th>RocketStatus</th>\n",
       "      <th>Price</th>\n",
       "      <th>MissionStatus</th>\n",
       "    </tr>\n",
       "  </thead>\n",
       "  <tbody>\n",
       "    <tr>\n",
       "      <th>2441</th>\n",
       "      <td>Martin Marietta</td>\n",
       "      <td>SLC-41, Cape Canaveral AFS, Florida, USA</td>\n",
       "      <td>1989-06-14</td>\n",
       "      <td>0 days 13:18:00</td>\n",
       "      <td>Titan IV(402)A</td>\n",
       "      <td>DSP</td>\n",
       "      <td>Retired</td>\n",
       "      <td>NaN</td>\n",
       "      <td>Success</td>\n",
       "    </tr>\n",
       "    <tr>\n",
       "      <th>2534</th>\n",
       "      <td>Martin Marietta</td>\n",
       "      <td>SLC-41, Cape Canaveral AFS, Florida, USA</td>\n",
       "      <td>1990-11-13</td>\n",
       "      <td>0 days 00:37:00</td>\n",
       "      <td>Titan IV(402)A</td>\n",
       "      <td>DSP</td>\n",
       "      <td>Retired</td>\n",
       "      <td>NaN</td>\n",
       "      <td>Success</td>\n",
       "    </tr>\n",
       "    <tr>\n",
       "      <th>2790</th>\n",
       "      <td>Martin Marietta</td>\n",
       "      <td>SLC-40, Cape Canaveral AFS, Florida, USA</td>\n",
       "      <td>1994-12-22</td>\n",
       "      <td>0 days 22:19:00</td>\n",
       "      <td>Titan IV(402)A</td>\n",
       "      <td>DSP</td>\n",
       "      <td>Retired</td>\n",
       "      <td>NaN</td>\n",
       "      <td>Success</td>\n",
       "    </tr>\n",
       "    <tr>\n",
       "      <th>2922</th>\n",
       "      <td>Lockheed</td>\n",
       "      <td>SLC-40, Cape Canaveral AFS, Florida, USA</td>\n",
       "      <td>1997-02-23</td>\n",
       "      <td>0 days 20:20:00</td>\n",
       "      <td>Titan IV(402)B</td>\n",
       "      <td>DSP</td>\n",
       "      <td>Retired</td>\n",
       "      <td>NaN</td>\n",
       "      <td>Success</td>\n",
       "    </tr>\n",
       "    <tr>\n",
       "      <th>3062</th>\n",
       "      <td>Lockheed</td>\n",
       "      <td>SLC-41, Cape Canaveral AFS, Florida, USA</td>\n",
       "      <td>1999-04-09</td>\n",
       "      <td>0 days 17:01:00</td>\n",
       "      <td>Titan IV(402)B</td>\n",
       "      <td>DSP</td>\n",
       "      <td>Retired</td>\n",
       "      <td>NaN</td>\n",
       "      <td>Failure</td>\n",
       "    </tr>\n",
       "    <tr>\n",
       "      <th>3126</th>\n",
       "      <td>Lockheed</td>\n",
       "      <td>SLC-40, Cape Canaveral AFS, Florida, USA</td>\n",
       "      <td>2000-05-08</td>\n",
       "      <td>0 days 16:01:00</td>\n",
       "      <td>Titan IV(402)B</td>\n",
       "      <td>DSP</td>\n",
       "      <td>Retired</td>\n",
       "      <td>NaN</td>\n",
       "      <td>Success</td>\n",
       "    </tr>\n",
       "    <tr>\n",
       "      <th>3190</th>\n",
       "      <td>Lockheed</td>\n",
       "      <td>SLC-40, Cape Canaveral AFS, Florida, USA</td>\n",
       "      <td>2001-08-06</td>\n",
       "      <td>0 days 07:28:00</td>\n",
       "      <td>Titan IV(402)B</td>\n",
       "      <td>DSP</td>\n",
       "      <td>Retired</td>\n",
       "      <td>NaN</td>\n",
       "      <td>Success</td>\n",
       "    </tr>\n",
       "    <tr>\n",
       "      <th>3313</th>\n",
       "      <td>Lockheed</td>\n",
       "      <td>SLC-40, Cape Canaveral AFS, Florida, USA</td>\n",
       "      <td>2004-02-14</td>\n",
       "      <td>0 days 18:50:00</td>\n",
       "      <td>Titan IV(402)B</td>\n",
       "      <td>DSP</td>\n",
       "      <td>Retired</td>\n",
       "      <td>NaN</td>\n",
       "      <td>Success</td>\n",
       "    </tr>\n",
       "    <tr>\n",
       "      <th>3344</th>\n",
       "      <td>VKS RF</td>\n",
       "      <td>Site 43/4, Plesetsk Cosmodrome, Russia</td>\n",
       "      <td>2004-11-08</td>\n",
       "      <td>0 days 18:29:00</td>\n",
       "      <td>Soyuz 2.1a</td>\n",
       "      <td>Demo Flight</td>\n",
       "      <td>Active</td>\n",
       "      <td>1742.0</td>\n",
       "      <td>Success</td>\n",
       "    </tr>\n",
       "    <tr>\n",
       "      <th>3772</th>\n",
       "      <td>VKS RF</td>\n",
       "      <td>Site 35/1, Plesetsk Cosmodrome, Russia</td>\n",
       "      <td>2014-07-09</td>\n",
       "      <td>0 days 12:00:00</td>\n",
       "      <td>Angara 1.2</td>\n",
       "      <td>Demo Flight</td>\n",
       "      <td>Active</td>\n",
       "      <td>NaN</td>\n",
       "      <td>Success</td>\n",
       "    </tr>\n",
       "    <tr>\n",
       "      <th>3800</th>\n",
       "      <td>Khrunichev</td>\n",
       "      <td>Site 35/1, Plesetsk Cosmodrome, Russia</td>\n",
       "      <td>2014-12-23</td>\n",
       "      <td>0 days 05:57:00</td>\n",
       "      <td>Angara A5/Briz-M</td>\n",
       "      <td>Demo Flight</td>\n",
       "      <td>Active</td>\n",
       "      <td>100.0</td>\n",
       "      <td>Success</td>\n",
       "    </tr>\n",
       "    <tr>\n",
       "      <th>3834</th>\n",
       "      <td>CASC</td>\n",
       "      <td>LC-16, Taiyuan Satellite Launch Center, China</td>\n",
       "      <td>2015-09-19</td>\n",
       "      <td>0 days 23:01:00</td>\n",
       "      <td>Long March 6</td>\n",
       "      <td>Demo Flight</td>\n",
       "      <td>Active</td>\n",
       "      <td>19.0</td>\n",
       "      <td>Success</td>\n",
       "    </tr>\n",
       "    <tr>\n",
       "      <th>3897</th>\n",
       "      <td>CASC</td>\n",
       "      <td>LC-201, Wenchang Satellite Launch Center, China</td>\n",
       "      <td>2016-06-25</td>\n",
       "      <td>0 days 12:00:00</td>\n",
       "      <td>Long March 7/YZ-1A</td>\n",
       "      <td>Demo Flight</td>\n",
       "      <td>Active</td>\n",
       "      <td>NaN</td>\n",
       "      <td>Success</td>\n",
       "    </tr>\n",
       "    <tr>\n",
       "      <th>4296</th>\n",
       "      <td>Virgin Orbit</td>\n",
       "      <td>Cosmic Girl, Mojave Air and Space Port, Califo...</td>\n",
       "      <td>2020-05-25</td>\n",
       "      <td>0 days 19:50:00</td>\n",
       "      <td>LauncherOne</td>\n",
       "      <td>Demo Flight</td>\n",
       "      <td>Active</td>\n",
       "      <td>12.0</td>\n",
       "      <td>Failure</td>\n",
       "    </tr>\n",
       "    <tr>\n",
       "      <th>4389</th>\n",
       "      <td>ISA</td>\n",
       "      <td>Launch Platform, Shahrud Missile Test Site, Iran</td>\n",
       "      <td>2021-02-01</td>\n",
       "      <td>NaT</td>\n",
       "      <td>Zoljanah</td>\n",
       "      <td>Demo Flight</td>\n",
       "      <td>Active</td>\n",
       "      <td>NaN</td>\n",
       "      <td>Success</td>\n",
       "    </tr>\n",
       "    <tr>\n",
       "      <th>4628</th>\n",
       "      <td>CAS Space</td>\n",
       "      <td>Jiuquan Satellite Launch Center, China</td>\n",
       "      <td>2022-07-27</td>\n",
       "      <td>0 days 04:12:00</td>\n",
       "      <td>Zhongke-1A</td>\n",
       "      <td>Demo Flight</td>\n",
       "      <td>Active</td>\n",
       "      <td>NaN</td>\n",
       "      <td>Success</td>\n",
       "    </tr>\n",
       "  </tbody>\n",
       "</table>\n",
       "</div>"
      ],
      "text/plain": [
       "              Company                                           Location  \\\n",
       "2441  Martin Marietta           SLC-41, Cape Canaveral AFS, Florida, USA   \n",
       "2534  Martin Marietta           SLC-41, Cape Canaveral AFS, Florida, USA   \n",
       "2790  Martin Marietta           SLC-40, Cape Canaveral AFS, Florida, USA   \n",
       "2922         Lockheed           SLC-40, Cape Canaveral AFS, Florida, USA   \n",
       "3062         Lockheed           SLC-41, Cape Canaveral AFS, Florida, USA   \n",
       "3126         Lockheed           SLC-40, Cape Canaveral AFS, Florida, USA   \n",
       "3190         Lockheed           SLC-40, Cape Canaveral AFS, Florida, USA   \n",
       "3313         Lockheed           SLC-40, Cape Canaveral AFS, Florida, USA   \n",
       "3344           VKS RF             Site 43/4, Plesetsk Cosmodrome, Russia   \n",
       "3772           VKS RF             Site 35/1, Plesetsk Cosmodrome, Russia   \n",
       "3800       Khrunichev             Site 35/1, Plesetsk Cosmodrome, Russia   \n",
       "3834             CASC      LC-16, Taiyuan Satellite Launch Center, China   \n",
       "3897             CASC    LC-201, Wenchang Satellite Launch Center, China   \n",
       "4296     Virgin Orbit  Cosmic Girl, Mojave Air and Space Port, Califo...   \n",
       "4389              ISA   Launch Platform, Shahrud Missile Test Site, Iran   \n",
       "4628        CAS Space             Jiuquan Satellite Launch Center, China   \n",
       "\n",
       "           Date            Time              Rocket      Mission RocketStatus  \\\n",
       "2441 1989-06-14 0 days 13:18:00      Titan IV(402)A          DSP      Retired   \n",
       "2534 1990-11-13 0 days 00:37:00      Titan IV(402)A          DSP      Retired   \n",
       "2790 1994-12-22 0 days 22:19:00      Titan IV(402)A          DSP      Retired   \n",
       "2922 1997-02-23 0 days 20:20:00      Titan IV(402)B          DSP      Retired   \n",
       "3062 1999-04-09 0 days 17:01:00      Titan IV(402)B          DSP      Retired   \n",
       "3126 2000-05-08 0 days 16:01:00      Titan IV(402)B          DSP      Retired   \n",
       "3190 2001-08-06 0 days 07:28:00      Titan IV(402)B          DSP      Retired   \n",
       "3313 2004-02-14 0 days 18:50:00      Titan IV(402)B          DSP      Retired   \n",
       "3344 2004-11-08 0 days 18:29:00          Soyuz 2.1a  Demo Flight       Active   \n",
       "3772 2014-07-09 0 days 12:00:00          Angara 1.2  Demo Flight       Active   \n",
       "3800 2014-12-23 0 days 05:57:00    Angara A5/Briz-M  Demo Flight       Active   \n",
       "3834 2015-09-19 0 days 23:01:00        Long March 6  Demo Flight       Active   \n",
       "3897 2016-06-25 0 days 12:00:00  Long March 7/YZ-1A  Demo Flight       Active   \n",
       "4296 2020-05-25 0 days 19:50:00         LauncherOne  Demo Flight       Active   \n",
       "4389 2021-02-01             NaT            Zoljanah  Demo Flight       Active   \n",
       "4628 2022-07-27 0 days 04:12:00          Zhongke-1A  Demo Flight       Active   \n",
       "\n",
       "       Price MissionStatus  \n",
       "2441     NaN       Success  \n",
       "2534     NaN       Success  \n",
       "2790     NaN       Success  \n",
       "2922     NaN       Success  \n",
       "3062     NaN       Failure  \n",
       "3126     NaN       Success  \n",
       "3190     NaN       Success  \n",
       "3313     NaN       Success  \n",
       "3344  1742.0       Success  \n",
       "3772     NaN       Success  \n",
       "3800   100.0       Success  \n",
       "3834    19.0       Success  \n",
       "3897     NaN       Success  \n",
       "4296    12.0       Failure  \n",
       "4389     NaN       Success  \n",
       "4628     NaN       Success  "
      ]
     },
     "execution_count": 30,
     "metadata": {},
     "output_type": "execute_result"
    }
   ],
   "source": [
    "space_missions[space_missions['Mission'].isin(['DSP','Demo Flight'])].loc[:,]"
   ]
  },
  {
   "cell_type": "code",
   "execution_count": 31,
   "id": "8a091183",
   "metadata": {},
   "outputs": [],
   "source": [
    "#Demo Flight mission are for testing purpose i think cuz every 8 demo fllight missions has different rockets and they all \n",
    "#are active. so we go with DSp mission\n"
   ]
  },
  {
   "cell_type": "code",
   "execution_count": 32,
   "id": "968d5af1",
   "metadata": {},
   "outputs": [
    {
     "data": {
      "text/html": [
       "<div>\n",
       "<style scoped>\n",
       "    .dataframe tbody tr th:only-of-type {\n",
       "        vertical-align: middle;\n",
       "    }\n",
       "\n",
       "    .dataframe tbody tr th {\n",
       "        vertical-align: top;\n",
       "    }\n",
       "\n",
       "    .dataframe thead th {\n",
       "        text-align: right;\n",
       "    }\n",
       "</style>\n",
       "<table border=\"1\" class=\"dataframe\">\n",
       "  <thead>\n",
       "    <tr style=\"text-align: right;\">\n",
       "      <th></th>\n",
       "      <th>Rocket</th>\n",
       "      <th>Mission</th>\n",
       "      <th>RocketStatus</th>\n",
       "    </tr>\n",
       "  </thead>\n",
       "  <tbody>\n",
       "    <tr>\n",
       "      <th>2441</th>\n",
       "      <td>Titan IV(402)A</td>\n",
       "      <td>DSP</td>\n",
       "      <td>Retired</td>\n",
       "    </tr>\n",
       "    <tr>\n",
       "      <th>2534</th>\n",
       "      <td>Titan IV(402)A</td>\n",
       "      <td>DSP</td>\n",
       "      <td>Retired</td>\n",
       "    </tr>\n",
       "    <tr>\n",
       "      <th>2790</th>\n",
       "      <td>Titan IV(402)A</td>\n",
       "      <td>DSP</td>\n",
       "      <td>Retired</td>\n",
       "    </tr>\n",
       "    <tr>\n",
       "      <th>2922</th>\n",
       "      <td>Titan IV(402)B</td>\n",
       "      <td>DSP</td>\n",
       "      <td>Retired</td>\n",
       "    </tr>\n",
       "    <tr>\n",
       "      <th>3062</th>\n",
       "      <td>Titan IV(402)B</td>\n",
       "      <td>DSP</td>\n",
       "      <td>Retired</td>\n",
       "    </tr>\n",
       "    <tr>\n",
       "      <th>3126</th>\n",
       "      <td>Titan IV(402)B</td>\n",
       "      <td>DSP</td>\n",
       "      <td>Retired</td>\n",
       "    </tr>\n",
       "    <tr>\n",
       "      <th>3190</th>\n",
       "      <td>Titan IV(402)B</td>\n",
       "      <td>DSP</td>\n",
       "      <td>Retired</td>\n",
       "    </tr>\n",
       "    <tr>\n",
       "      <th>3313</th>\n",
       "      <td>Titan IV(402)B</td>\n",
       "      <td>DSP</td>\n",
       "      <td>Retired</td>\n",
       "    </tr>\n",
       "  </tbody>\n",
       "</table>\n",
       "</div>"
      ],
      "text/plain": [
       "              Rocket Mission RocketStatus\n",
       "2441  Titan IV(402)A     DSP      Retired\n",
       "2534  Titan IV(402)A     DSP      Retired\n",
       "2790  Titan IV(402)A     DSP      Retired\n",
       "2922  Titan IV(402)B     DSP      Retired\n",
       "3062  Titan IV(402)B     DSP      Retired\n",
       "3126  Titan IV(402)B     DSP      Retired\n",
       "3190  Titan IV(402)B     DSP      Retired\n",
       "3313  Titan IV(402)B     DSP      Retired"
      ]
     },
     "execution_count": 32,
     "metadata": {},
     "output_type": "execute_result"
    }
   ],
   "source": [
    "space_missions[space_missions['Mission']=='DSP'].loc[:,['Rocket','Mission', 'RocketStatus']]"
   ]
  },
  {
   "cell_type": "code",
   "execution_count": 33,
   "id": "c3faedcd",
   "metadata": {},
   "outputs": [],
   "source": [
    "#the rocket used in more space mission is Titan IV(402)B\n",
    "# and its retired"
   ]
  },
  {
   "cell_type": "code",
   "execution_count": 114,
   "id": "2a5fbed6",
   "metadata": {},
   "outputs": [],
   "source": [
    "#which company has the most success & failure mission status "
   ]
  },
  {
   "cell_type": "code",
   "execution_count": 49,
   "id": "124940f4",
   "metadata": {},
   "outputs": [
    {
     "data": {
      "text/plain": [
       "RVSN USSR           1777\n",
       "CASC                 338\n",
       "Arianespace          293\n",
       "General Dynamics     251\n",
       "VKS RF               216\n",
       "                    ... \n",
       "OneSpace               1\n",
       "Douglas                1\n",
       "GK LS                  1\n",
       "Firefly                1\n",
       "CAS Space              1\n",
       "Name: Company, Length: 62, dtype: int64"
      ]
     },
     "execution_count": 49,
     "metadata": {},
     "output_type": "execute_result"
    }
   ],
   "source": [
    "space_missions.Company.value_counts()"
   ]
  },
  {
   "cell_type": "code",
   "execution_count": 54,
   "id": "838c8905",
   "metadata": {},
   "outputs": [
    {
     "data": {
      "text/plain": [
       "RVSN USSR      1614\n",
       "CASC            318\n",
       "Arianespace     282\n",
       "Name: Company, dtype: int64"
      ]
     },
     "execution_count": 54,
     "metadata": {},
     "output_type": "execute_result"
    }
   ],
   "source": [
    "space_missions[space_missions['MissionStatus']=='Success']['Company'].value_counts().nlargest(3)"
   ]
  },
  {
   "cell_type": "code",
   "execution_count": 55,
   "id": "60ae021a",
   "metadata": {},
   "outputs": [
    {
     "data": {
      "text/plain": [
       "RVSN USSR           121\n",
       "General Dynamics     37\n",
       "US Air Force         30\n",
       "Name: Company, dtype: int64"
      ]
     },
     "execution_count": 55,
     "metadata": {},
     "output_type": "execute_result"
    }
   ],
   "source": [
    "space_missions[space_missions['MissionStatus']=='Failure']['Company'].value_counts().nlargest(3)"
   ]
  },
  {
   "cell_type": "code",
   "execution_count": 102,
   "id": "b83a6bd2",
   "metadata": {},
   "outputs": [],
   "source": [
    "#most expensive rocket?and the company made them?"
   ]
  },
  {
   "cell_type": "code",
   "execution_count": 57,
   "id": "92235181",
   "metadata": {},
   "outputs": [
    {
     "data": {
      "text/html": [
       "<div>\n",
       "<style scoped>\n",
       "    .dataframe tbody tr th:only-of-type {\n",
       "        vertical-align: middle;\n",
       "    }\n",
       "\n",
       "    .dataframe tbody tr th {\n",
       "        vertical-align: top;\n",
       "    }\n",
       "\n",
       "    .dataframe thead th {\n",
       "        text-align: right;\n",
       "    }\n",
       "</style>\n",
       "<table border=\"1\" class=\"dataframe\">\n",
       "  <thead>\n",
       "    <tr style=\"text-align: right;\">\n",
       "      <th></th>\n",
       "      <th>Company</th>\n",
       "      <th>Location</th>\n",
       "      <th>Date</th>\n",
       "      <th>Time</th>\n",
       "      <th>Rocket</th>\n",
       "      <th>Mission</th>\n",
       "      <th>RocketStatus</th>\n",
       "      <th>Price</th>\n",
       "      <th>MissionStatus</th>\n",
       "    </tr>\n",
       "  </thead>\n",
       "  <tbody>\n",
       "    <tr>\n",
       "      <th>0</th>\n",
       "      <td>RVSN USSR</td>\n",
       "      <td>Site 1/5, Baikonur Cosmodrome, Kazakhstan</td>\n",
       "      <td>1957-10-04</td>\n",
       "      <td>0 days 19:28:00</td>\n",
       "      <td>Sputnik 8K71PS</td>\n",
       "      <td>Sputnik-1</td>\n",
       "      <td>Retired</td>\n",
       "      <td>NaN</td>\n",
       "      <td>Success</td>\n",
       "    </tr>\n",
       "    <tr>\n",
       "      <th>1</th>\n",
       "      <td>RVSN USSR</td>\n",
       "      <td>Site 1/5, Baikonur Cosmodrome, Kazakhstan</td>\n",
       "      <td>1957-11-03</td>\n",
       "      <td>0 days 02:30:00</td>\n",
       "      <td>Sputnik 8K71PS</td>\n",
       "      <td>Sputnik-2</td>\n",
       "      <td>Retired</td>\n",
       "      <td>NaN</td>\n",
       "      <td>Success</td>\n",
       "    </tr>\n",
       "    <tr>\n",
       "      <th>2</th>\n",
       "      <td>US Navy</td>\n",
       "      <td>LC-18A, Cape Canaveral AFS, Florida, USA</td>\n",
       "      <td>1957-12-06</td>\n",
       "      <td>0 days 16:44:00</td>\n",
       "      <td>Vanguard</td>\n",
       "      <td>Vanguard TV3</td>\n",
       "      <td>Retired</td>\n",
       "      <td>NaN</td>\n",
       "      <td>Failure</td>\n",
       "    </tr>\n",
       "    <tr>\n",
       "      <th>3</th>\n",
       "      <td>AMBA</td>\n",
       "      <td>LC-26A, Cape Canaveral AFS, Florida, USA</td>\n",
       "      <td>1958-02-01</td>\n",
       "      <td>0 days 03:48:00</td>\n",
       "      <td>Juno I</td>\n",
       "      <td>Explorer 1</td>\n",
       "      <td>Retired</td>\n",
       "      <td>NaN</td>\n",
       "      <td>Success</td>\n",
       "    </tr>\n",
       "    <tr>\n",
       "      <th>4</th>\n",
       "      <td>US Navy</td>\n",
       "      <td>LC-18A, Cape Canaveral AFS, Florida, USA</td>\n",
       "      <td>1958-02-05</td>\n",
       "      <td>0 days 07:33:00</td>\n",
       "      <td>Vanguard</td>\n",
       "      <td>Vanguard TV3BU</td>\n",
       "      <td>Retired</td>\n",
       "      <td>NaN</td>\n",
       "      <td>Failure</td>\n",
       "    </tr>\n",
       "  </tbody>\n",
       "</table>\n",
       "</div>"
      ],
      "text/plain": [
       "     Company                                   Location       Date  \\\n",
       "0  RVSN USSR  Site 1/5, Baikonur Cosmodrome, Kazakhstan 1957-10-04   \n",
       "1  RVSN USSR  Site 1/5, Baikonur Cosmodrome, Kazakhstan 1957-11-03   \n",
       "2    US Navy   LC-18A, Cape Canaveral AFS, Florida, USA 1957-12-06   \n",
       "3       AMBA   LC-26A, Cape Canaveral AFS, Florida, USA 1958-02-01   \n",
       "4    US Navy   LC-18A, Cape Canaveral AFS, Florida, USA 1958-02-05   \n",
       "\n",
       "             Time          Rocket         Mission RocketStatus  Price  \\\n",
       "0 0 days 19:28:00  Sputnik 8K71PS       Sputnik-1      Retired    NaN   \n",
       "1 0 days 02:30:00  Sputnik 8K71PS       Sputnik-2      Retired    NaN   \n",
       "2 0 days 16:44:00        Vanguard    Vanguard TV3      Retired    NaN   \n",
       "3 0 days 03:48:00          Juno I      Explorer 1      Retired    NaN   \n",
       "4 0 days 07:33:00        Vanguard  Vanguard TV3BU      Retired    NaN   \n",
       "\n",
       "  MissionStatus  \n",
       "0       Success  \n",
       "1       Success  \n",
       "2       Failure  \n",
       "3       Success  \n",
       "4       Failure  "
      ]
     },
     "execution_count": 57,
     "metadata": {},
     "output_type": "execute_result"
    }
   ],
   "source": [
    "space_missions.head()"
   ]
  },
  {
   "cell_type": "code",
   "execution_count": 62,
   "id": "882e8f50",
   "metadata": {},
   "outputs": [
    {
     "data": {
      "text/plain": [
       "3365"
      ]
     },
     "execution_count": 62,
     "metadata": {},
     "output_type": "execute_result"
    }
   ],
   "source": [
    "space_missions.Price.isnull().sum()"
   ]
  },
  {
   "cell_type": "code",
   "execution_count": 66,
   "id": "0953ead3",
   "metadata": {},
   "outputs": [
    {
     "data": {
      "text/plain": [
       "2687.313043478261"
      ]
     },
     "execution_count": 66,
     "metadata": {},
     "output_type": "execute_result"
    }
   ],
   "source": [
    "space_missions.Price.mean()"
   ]
  },
  {
   "cell_type": "code",
   "execution_count": 84,
   "id": "2e88341a",
   "metadata": {},
   "outputs": [
    {
     "data": {
      "text/plain": [
       "Price    109.0\n",
       "dtype: float64"
      ]
     },
     "execution_count": 84,
     "metadata": {},
     "output_type": "execute_result"
    }
   ],
   "source": [
    "space_missions.select_dtypes(include=float).median()"
   ]
  },
  {
   "cell_type": "code",
   "execution_count": 87,
   "id": "d3b5f8f7",
   "metadata": {},
   "outputs": [],
   "source": [
    "space_missions.fillna({\n",
    "                'Price':space_missions.Price.mean()                      \n",
    "}, inplace=True)"
   ]
  },
  {
   "cell_type": "code",
   "execution_count": 101,
   "id": "05d09ffc",
   "metadata": {},
   "outputs": [
    {
     "data": {
      "text/html": [
       "<div>\n",
       "<style scoped>\n",
       "    .dataframe tbody tr th:only-of-type {\n",
       "        vertical-align: middle;\n",
       "    }\n",
       "\n",
       "    .dataframe tbody tr th {\n",
       "        vertical-align: top;\n",
       "    }\n",
       "\n",
       "    .dataframe thead th {\n",
       "        text-align: right;\n",
       "    }\n",
       "</style>\n",
       "<table border=\"1\" class=\"dataframe\">\n",
       "  <thead>\n",
       "    <tr style=\"text-align: right;\">\n",
       "      <th></th>\n",
       "      <th>Company</th>\n",
       "      <th>Rocket</th>\n",
       "      <th>Price</th>\n",
       "    </tr>\n",
       "  </thead>\n",
       "  <tbody>\n",
       "    <tr>\n",
       "      <th>2323</th>\n",
       "      <td>RVSN USSR</td>\n",
       "      <td>Energiya/Polyus</td>\n",
       "      <td>500000.0</td>\n",
       "    </tr>\n",
       "    <tr>\n",
       "      <th>2407</th>\n",
       "      <td>RVSN USSR</td>\n",
       "      <td>Energiya/Buran</td>\n",
       "      <td>500000.0</td>\n",
       "    </tr>\n",
       "    <tr>\n",
       "      <th>778</th>\n",
       "      <td>NASA</td>\n",
       "      <td>Saturn V</td>\n",
       "      <td>116000.0</td>\n",
       "    </tr>\n",
       "  </tbody>\n",
       "</table>\n",
       "</div>"
      ],
      "text/plain": [
       "        Company           Rocket     Price\n",
       "2323  RVSN USSR  Energiya/Polyus  500000.0\n",
       "2407  RVSN USSR   Energiya/Buran  500000.0\n",
       "778        NASA         Saturn V  116000.0"
      ]
     },
     "execution_count": 101,
     "metadata": {},
     "output_type": "execute_result"
    }
   ],
   "source": [
    "space_missions[['Company','Rocket','Price']].sort_values(by=['Price'], ascending=False).head(3)"
   ]
  },
  {
   "cell_type": "code",
   "execution_count": 100,
   "id": "b043e8ac",
   "metadata": {},
   "outputs": [
    {
     "data": {
      "text/html": [
       "<div>\n",
       "<style scoped>\n",
       "    .dataframe tbody tr th:only-of-type {\n",
       "        vertical-align: middle;\n",
       "    }\n",
       "\n",
       "    .dataframe tbody tr th {\n",
       "        vertical-align: top;\n",
       "    }\n",
       "\n",
       "    .dataframe thead th {\n",
       "        text-align: right;\n",
       "    }\n",
       "</style>\n",
       "<table border=\"1\" class=\"dataframe\">\n",
       "  <thead>\n",
       "    <tr style=\"text-align: right;\">\n",
       "      <th></th>\n",
       "      <th>Company</th>\n",
       "      <th>Rocket</th>\n",
       "      <th>Price</th>\n",
       "    </tr>\n",
       "  </thead>\n",
       "  <tbody>\n",
       "    <tr>\n",
       "      <th>2323</th>\n",
       "      <td>RVSN USSR</td>\n",
       "      <td>Energiya/Polyus</td>\n",
       "      <td>500000.0</td>\n",
       "    </tr>\n",
       "    <tr>\n",
       "      <th>2407</th>\n",
       "      <td>RVSN USSR</td>\n",
       "      <td>Energiya/Buran</td>\n",
       "      <td>500000.0</td>\n",
       "    </tr>\n",
       "    <tr>\n",
       "      <th>607</th>\n",
       "      <td>NASA</td>\n",
       "      <td>Saturn V</td>\n",
       "      <td>116000.0</td>\n",
       "    </tr>\n",
       "  </tbody>\n",
       "</table>\n",
       "</div>"
      ],
      "text/plain": [
       "        Company           Rocket     Price\n",
       "2323  RVSN USSR  Energiya/Polyus  500000.0\n",
       "2407  RVSN USSR   Energiya/Buran  500000.0\n",
       "607        NASA         Saturn V  116000.0"
      ]
     },
     "execution_count": 100,
     "metadata": {},
     "output_type": "execute_result"
    }
   ],
   "source": [
    "space_missions[['Company','Rocket','Price']].nlargest(columns='Price', n=3)"
   ]
  },
  {
   "cell_type": "code",
   "execution_count": 96,
   "id": "97e74d70",
   "metadata": {},
   "outputs": [
    {
     "data": {
      "text/html": [
       "<div>\n",
       "<style scoped>\n",
       "    .dataframe tbody tr th:only-of-type {\n",
       "        vertical-align: middle;\n",
       "    }\n",
       "\n",
       "    .dataframe tbody tr th {\n",
       "        vertical-align: top;\n",
       "    }\n",
       "\n",
       "    .dataframe thead th {\n",
       "        text-align: right;\n",
       "    }\n",
       "</style>\n",
       "<table border=\"1\" class=\"dataframe\">\n",
       "  <thead>\n",
       "    <tr style=\"text-align: right;\">\n",
       "      <th></th>\n",
       "      <th>Company</th>\n",
       "      <th>Location</th>\n",
       "      <th>Date</th>\n",
       "      <th>Time</th>\n",
       "      <th>Rocket</th>\n",
       "      <th>Mission</th>\n",
       "      <th>RocketStatus</th>\n",
       "      <th>Price</th>\n",
       "      <th>MissionStatus</th>\n",
       "    </tr>\n",
       "  </thead>\n",
       "  <tbody>\n",
       "    <tr>\n",
       "      <th>2323</th>\n",
       "      <td>RVSN USSR</td>\n",
       "      <td>Site 250, Baikonur Cosmodrome, Kazakhstan</td>\n",
       "      <td>1987-05-15</td>\n",
       "      <td>0 days 17:30:00</td>\n",
       "      <td>Energiya/Polyus</td>\n",
       "      <td>Polyus Space Station</td>\n",
       "      <td>Retired</td>\n",
       "      <td>500000.0</td>\n",
       "      <td>Success</td>\n",
       "    </tr>\n",
       "    <tr>\n",
       "      <th>2407</th>\n",
       "      <td>RVSN USSR</td>\n",
       "      <td>Site 110/37, Baikonur Cosmodrome, Kazakhstan</td>\n",
       "      <td>1988-11-15</td>\n",
       "      <td>0 days 03:00:00</td>\n",
       "      <td>Energiya/Buran</td>\n",
       "      <td>Buran</td>\n",
       "      <td>Retired</td>\n",
       "      <td>500000.0</td>\n",
       "      <td>Success</td>\n",
       "    </tr>\n",
       "  </tbody>\n",
       "</table>\n",
       "</div>"
      ],
      "text/plain": [
       "        Company                                      Location       Date  \\\n",
       "2323  RVSN USSR     Site 250, Baikonur Cosmodrome, Kazakhstan 1987-05-15   \n",
       "2407  RVSN USSR  Site 110/37, Baikonur Cosmodrome, Kazakhstan 1988-11-15   \n",
       "\n",
       "                Time           Rocket               Mission RocketStatus  \\\n",
       "2323 0 days 17:30:00  Energiya/Polyus  Polyus Space Station      Retired   \n",
       "2407 0 days 03:00:00   Energiya/Buran                 Buran      Retired   \n",
       "\n",
       "         Price MissionStatus  \n",
       "2323  500000.0       Success  \n",
       "2407  500000.0       Success  "
      ]
     },
     "execution_count": 96,
     "metadata": {},
     "output_type": "execute_result"
    }
   ],
   "source": [
    "space_missions.iloc[[2323,2407],]"
   ]
  },
  {
   "cell_type": "code",
   "execution_count": 97,
   "id": "369bd32d",
   "metadata": {},
   "outputs": [],
   "source": [
    "#most expensive rockets made was Energiya/Polyus & Energiya/Buran\n",
    "#And both of them are made by RVSN USSR"
   ]
  },
  {
   "cell_type": "code",
   "execution_count": 104,
   "id": "c0946a4a",
   "metadata": {},
   "outputs": [
    {
     "data": {
      "text/plain": [
       "array(['RVSN USSR', 'US Navy', 'AMBA', 'US Air Force', 'NASA',\n",
       "       'General Dynamics', 'Martin Marietta', \"Armée de l'Air\", 'UT',\n",
       "       'ASI', 'OKB-586', 'CECLES', 'Yuzhmash', 'CASC', 'CNES',\n",
       "       'Roscosmos', 'ISAS', 'RAE', 'MHI', 'ISRO', 'ESA', 'Arianespace',\n",
       "       'IAI', 'Boeing', 'Douglas', 'Northrop', 'Lockheed', 'VKS RF',\n",
       "       'MITT', 'ILS', 'EER', 'AEB', 'SRC', 'KCST', 'Sea Launch',\n",
       "       'Kosmotras', 'Eurockot', 'CASIC', 'Starsem', 'SpaceX', 'ULA',\n",
       "       'Land Launch', 'ISA', 'KARI', 'JAXA', 'Khrunichev', 'Blue Origin',\n",
       "       'Sandia', 'ExPace', 'Rocket Lab', 'Exos', 'Landspace', 'OneSpace',\n",
       "       'i-Space', 'IRGC', 'Virgin Orbit', 'Astra', 'Galactic Energy',\n",
       "       'Virgin Galactic', 'GK LS', 'Firefly', 'CAS Space'], dtype=object)"
      ]
     },
     "execution_count": 104,
     "metadata": {},
     "output_type": "execute_result"
    }
   ],
   "source": [
    "space_missions.Company.unique()"
   ]
  },
  {
   "cell_type": "code",
   "execution_count": 113,
   "id": "d833616e",
   "metadata": {},
   "outputs": [
    {
     "data": {
      "text/plain": [
       "788       Site 133/3, Plesetsk Cosmodrome, Russia\n",
       "0       Site 1/5, Baikonur Cosmodrome, Kazakhstan\n",
       "2076             Site 107/1, Kapustin Yar, Russia\n",
       "2004    Site 1/5, Baikonur Cosmodrome, Kazakhstan\n",
       "555     Site 1/5, Baikonur Cosmodrome, Kazakhstan\n",
       "Name: Location, dtype: object"
      ]
     },
     "execution_count": 113,
     "metadata": {},
     "output_type": "execute_result"
    }
   ],
   "source": [
    "space_missions[space_missions['Company']=='RVSN USSR']['Location'].sample(5)"
   ]
  },
  {
   "cell_type": "code",
   "execution_count": null,
   "id": "e4a30dc3",
   "metadata": {},
   "outputs": [],
   "source": []
  }
 ],
 "metadata": {
  "kernelspec": {
   "display_name": "Python 3 (ipykernel)",
   "language": "python",
   "name": "python3"
  },
  "language_info": {
   "codemirror_mode": {
    "name": "ipython",
    "version": 3
   },
   "file_extension": ".py",
   "mimetype": "text/x-python",
   "name": "python",
   "nbconvert_exporter": "python",
   "pygments_lexer": "ipython3",
   "version": "3.11.0"
  }
 },
 "nbformat": 4,
 "nbformat_minor": 5
}
